{
  "cells": [
    {
      "cell_type": "markdown",
      "metadata": {
        "id": "MjJZA1lbKjfE"
      },
      "source": [
        "# Exemplo - Multilayer Perceptron com TensorFlow"
      ]
    },
    {
      "cell_type": "code",
      "execution_count": 2,
      "metadata": {
        "id": "YQZ21YC7HJBf"
      },
      "outputs": [],
      "source": [
        "import tensorflow as tf\n",
        "import numpy as np\n",
        "import pandas as pd\n",
        "import matplotlib.pyplot as plt\n",
        "from sklearn.model_selection import train_test_split\n",
        "from sklearn.preprocessing import StandardScaler\n",
        "\n",
        "df = pd.read_csv('https://archive.ics.uci.edu/ml/machine-learning-databases/iris/iris.data', header=None)\n",
        "\n",
        "\n",
        "# Split dataset\n",
        "X = df.iloc[:, 0:4].values\n",
        "y = df.iloc[:, 4].values"
      ]
    },
    {
      "cell_type": "code",
      "execution_count": 13,
      "metadata": {
        "id": "D1374nHcIQ04"
      },
      "outputs": [],
      "source": [
        "# Split dataset into train and test\n",
        "X_train, X_test, y_train, y_test = train_test_split(X, y, test_size=0.2, random_state=3, stratify=y)\n",
        "\n",
        "# Standardize features\n",
        "sc = StandardScaler()\n",
        "sc.fit(X_train)\n",
        "X_train_std = sc.transform(X_train)\n",
        "X_test_std = sc.transform(X_test)\n",
        "\n",
        "# Convert class labels into one-hot encoding\n",
        "y_train_onehot = pd.get_dummies(y_train).values\n",
        "y_test_onehot = pd.get_dummies(y_test).values\n"
      ]
    },
    {
      "cell_type": "code",
      "execution_count": 15,
      "metadata": {
        "colab": {
          "base_uri": "https://localhost:8080/"
        },
        "id": "JGX2rgFeIbxp",
        "outputId": "c09b08a5-6208-4bc6-a858-af75e243b34c"
      },
      "outputs": [
        {
          "name": "stdout",
          "output_type": "stream",
          "text": [
            "Model: \"sequential_4\"\n",
            "_________________________________________________________________\n",
            " Layer (type)                Output Shape              Param #   \n",
            "=================================================================\n",
            " dense_8 (Dense)             (None, 64)                320       \n",
            "                                                                 \n",
            " dense_9 (Dense)             (None, 3)                 195       \n",
            "                                                                 \n",
            "=================================================================\n",
            "Total params: 515\n",
            "Trainable params: 515\n",
            "Non-trainable params: 0\n",
            "_________________________________________________________________\n"
          ]
        }
      ],
      "source": [
        "# Create model\n",
        "model = tf.keras.models.Sequential()\n",
        "model.add(tf.keras.layers.Dense(64, input_dim=4, activation='sigmoid'))\n",
        "model.add(tf.keras.layers.Dense(3, activation='softmax'))\n",
        "\n",
        "# Compile model\n",
        "model.compile(loss='categorical_crossentropy', optimizer='adam', metrics=['mse'])\n",
        "model.summary()"
      ]
    },
    {
      "cell_type": "code",
      "execution_count": 16,
      "metadata": {
        "colab": {
          "base_uri": "https://localhost:8080/"
        },
        "id": "dUv0zfv7I97M",
        "outputId": "2365675e-4475-47d8-b3e8-c8e282b5f351"
      },
      "outputs": [
        {
          "name": "stdout",
          "output_type": "stream",
          "text": [
            "Epoch 1/100\n",
            "10/10 [==============================] - 0s 17ms/step - loss: 1.1094 - mse: 0.2252 - val_loss: 1.0652 - val_mse: 0.2152\n",
            "Epoch 2/100\n",
            "10/10 [==============================] - 0s 4ms/step - loss: 1.0460 - mse: 0.2109 - val_loss: 1.0079 - val_mse: 0.2017\n",
            "Epoch 3/100\n",
            "10/10 [==============================] - 0s 4ms/step - loss: 0.9940 - mse: 0.1985 - val_loss: 0.9652 - val_mse: 0.1912\n",
            "Epoch 4/100\n",
            "10/10 [==============================] - 0s 4ms/step - loss: 0.9525 - mse: 0.1885 - val_loss: 0.9239 - val_mse: 0.1815\n",
            "Epoch 5/100\n",
            "10/10 [==============================] - 0s 6ms/step - loss: 0.9133 - mse: 0.1795 - val_loss: 0.8841 - val_mse: 0.1724\n",
            "Epoch 6/100\n",
            "10/10 [==============================] - 0s 4ms/step - loss: 0.8740 - mse: 0.1704 - val_loss: 0.8478 - val_mse: 0.1636\n",
            "Epoch 7/100\n",
            "10/10 [==============================] - 0s 5ms/step - loss: 0.8391 - mse: 0.1621 - val_loss: 0.8134 - val_mse: 0.1557\n",
            "Epoch 8/100\n",
            "10/10 [==============================] - 0s 4ms/step - loss: 0.8044 - mse: 0.1542 - val_loss: 0.7810 - val_mse: 0.1483\n",
            "Epoch 9/100\n",
            "10/10 [==============================] - 0s 4ms/step - loss: 0.7742 - mse: 0.1468 - val_loss: 0.7511 - val_mse: 0.1408\n",
            "Epoch 10/100\n",
            "10/10 [==============================] - 0s 5ms/step - loss: 0.7407 - mse: 0.1390 - val_loss: 0.7212 - val_mse: 0.1345\n",
            "Epoch 11/100\n",
            "10/10 [==============================] - 0s 4ms/step - loss: 0.7121 - mse: 0.1328 - val_loss: 0.6932 - val_mse: 0.1286\n",
            "Epoch 12/100\n",
            "10/10 [==============================] - 0s 4ms/step - loss: 0.6844 - mse: 0.1268 - val_loss: 0.6674 - val_mse: 0.1231\n",
            "Epoch 13/100\n",
            "10/10 [==============================] - 0s 4ms/step - loss: 0.6599 - mse: 0.1213 - val_loss: 0.6444 - val_mse: 0.1180\n",
            "Epoch 14/100\n",
            "10/10 [==============================] - 0s 4ms/step - loss: 0.6343 - mse: 0.1159 - val_loss: 0.6200 - val_mse: 0.1135\n",
            "Epoch 15/100\n",
            "10/10 [==============================] - 0s 4ms/step - loss: 0.6103 - mse: 0.1109 - val_loss: 0.5992 - val_mse: 0.1092\n",
            "Epoch 16/100\n",
            "10/10 [==============================] - 0s 6ms/step - loss: 0.5883 - mse: 0.1062 - val_loss: 0.5790 - val_mse: 0.1054\n",
            "Epoch 17/100\n",
            "10/10 [==============================] - 0s 4ms/step - loss: 0.5677 - mse: 0.1020 - val_loss: 0.5608 - val_mse: 0.1019\n",
            "Epoch 18/100\n",
            "10/10 [==============================] - 0s 4ms/step - loss: 0.5484 - mse: 0.0980 - val_loss: 0.5444 - val_mse: 0.0988\n",
            "Epoch 19/100\n",
            "10/10 [==============================] - 0s 4ms/step - loss: 0.5305 - mse: 0.0945 - val_loss: 0.5280 - val_mse: 0.0959\n",
            "Epoch 20/100\n",
            "10/10 [==============================] - 0s 4ms/step - loss: 0.5133 - mse: 0.0912 - val_loss: 0.5125 - val_mse: 0.0932\n",
            "Epoch 21/100\n",
            "10/10 [==============================] - 0s 6ms/step - loss: 0.4976 - mse: 0.0882 - val_loss: 0.4981 - val_mse: 0.0907\n",
            "Epoch 22/100\n",
            "10/10 [==============================] - 0s 5ms/step - loss: 0.4849 - mse: 0.0859 - val_loss: 0.4852 - val_mse: 0.0885\n",
            "Epoch 23/100\n",
            "10/10 [==============================] - 0s 4ms/step - loss: 0.4724 - mse: 0.0838 - val_loss: 0.4727 - val_mse: 0.0864\n",
            "Epoch 24/100\n",
            "10/10 [==============================] - 0s 6ms/step - loss: 0.4566 - mse: 0.0805 - val_loss: 0.4620 - val_mse: 0.0846\n",
            "Epoch 25/100\n",
            "10/10 [==============================] - 0s 4ms/step - loss: 0.4445 - mse: 0.0783 - val_loss: 0.4520 - val_mse: 0.0830\n",
            "Epoch 26/100\n",
            "10/10 [==============================] - 0s 4ms/step - loss: 0.4342 - mse: 0.0765 - val_loss: 0.4442 - val_mse: 0.0819\n",
            "Epoch 27/100\n",
            "10/10 [==============================] - 0s 4ms/step - loss: 0.4255 - mse: 0.0750 - val_loss: 0.4327 - val_mse: 0.0798\n",
            "Epoch 28/100\n",
            "10/10 [==============================] - 0s 4ms/step - loss: 0.4130 - mse: 0.0725 - val_loss: 0.4246 - val_mse: 0.0786\n",
            "Epoch 29/100\n",
            "10/10 [==============================] - 0s 4ms/step - loss: 0.4044 - mse: 0.0710 - val_loss: 0.4181 - val_mse: 0.0778\n",
            "Epoch 30/100\n",
            "10/10 [==============================] - 0s 4ms/step - loss: 0.3972 - mse: 0.0699 - val_loss: 0.4085 - val_mse: 0.0760\n",
            "Epoch 31/100\n",
            "10/10 [==============================] - 0s 4ms/step - loss: 0.3870 - mse: 0.0678 - val_loss: 0.4018 - val_mse: 0.0750\n",
            "Epoch 32/100\n",
            "10/10 [==============================] - 0s 4ms/step - loss: 0.3793 - mse: 0.0665 - val_loss: 0.3949 - val_mse: 0.0739\n",
            "Epoch 33/100\n",
            "10/10 [==============================] - 0s 4ms/step - loss: 0.3723 - mse: 0.0652 - val_loss: 0.3871 - val_mse: 0.0724\n",
            "Epoch 34/100\n",
            "10/10 [==============================] - 0s 4ms/step - loss: 0.3657 - mse: 0.0640 - val_loss: 0.3818 - val_mse: 0.0718\n",
            "Epoch 35/100\n",
            "10/10 [==============================] - 0s 4ms/step - loss: 0.3579 - mse: 0.0626 - val_loss: 0.3764 - val_mse: 0.0709\n",
            "Epoch 36/100\n",
            "10/10 [==============================] - 0s 6ms/step - loss: 0.3516 - mse: 0.0615 - val_loss: 0.3700 - val_mse: 0.0698\n",
            "Epoch 37/100\n",
            "10/10 [==============================] - 0s 5ms/step - loss: 0.3483 - mse: 0.0612 - val_loss: 0.3636 - val_mse: 0.0685\n",
            "Epoch 38/100\n",
            "10/10 [==============================] - 0s 4ms/step - loss: 0.3413 - mse: 0.0599 - val_loss: 0.3601 - val_mse: 0.0683\n",
            "Epoch 39/100\n",
            "10/10 [==============================] - 0s 4ms/step - loss: 0.3341 - mse: 0.0585 - val_loss: 0.3553 - val_mse: 0.0676\n",
            "Epoch 40/100\n",
            "10/10 [==============================] - 0s 4ms/step - loss: 0.3287 - mse: 0.0575 - val_loss: 0.3508 - val_mse: 0.0669\n",
            "Epoch 41/100\n",
            "10/10 [==============================] - 0s 4ms/step - loss: 0.3238 - mse: 0.0566 - val_loss: 0.3453 - val_mse: 0.0658\n",
            "Epoch 42/100\n",
            "10/10 [==============================] - 0s 4ms/step - loss: 0.3188 - mse: 0.0557 - val_loss: 0.3415 - val_mse: 0.0652\n",
            "Epoch 43/100\n",
            "10/10 [==============================] - 0s 4ms/step - loss: 0.3161 - mse: 0.0555 - val_loss: 0.3376 - val_mse: 0.0647\n",
            "Epoch 44/100\n",
            "10/10 [==============================] - 0s 4ms/step - loss: 0.3100 - mse: 0.0541 - val_loss: 0.3325 - val_mse: 0.0636\n",
            "Epoch 45/100\n",
            "10/10 [==============================] - 0s 4ms/step - loss: 0.3055 - mse: 0.0533 - val_loss: 0.3282 - val_mse: 0.0629\n",
            "Epoch 46/100\n",
            "10/10 [==============================] - 0s 6ms/step - loss: 0.3012 - mse: 0.0526 - val_loss: 0.3252 - val_mse: 0.0626\n",
            "Epoch 47/100\n",
            "10/10 [==============================] - 0s 4ms/step - loss: 0.2966 - mse: 0.0518 - val_loss: 0.3219 - val_mse: 0.0621\n",
            "Epoch 48/100\n",
            "10/10 [==============================] - 0s 4ms/step - loss: 0.2930 - mse: 0.0512 - val_loss: 0.3188 - val_mse: 0.0617\n",
            "Epoch 49/100\n",
            "10/10 [==============================] - 0s 4ms/step - loss: 0.2898 - mse: 0.0508 - val_loss: 0.3151 - val_mse: 0.0610\n",
            "Epoch 50/100\n",
            "10/10 [==============================] - 0s 4ms/step - loss: 0.2860 - mse: 0.0499 - val_loss: 0.3096 - val_mse: 0.0597\n",
            "Epoch 51/100\n",
            "10/10 [==============================] - 0s 4ms/step - loss: 0.2826 - mse: 0.0493 - val_loss: 0.3073 - val_mse: 0.0595\n",
            "Epoch 52/100\n",
            "10/10 [==============================] - 0s 4ms/step - loss: 0.2793 - mse: 0.0488 - val_loss: 0.3033 - val_mse: 0.0586\n",
            "Epoch 53/100\n",
            "10/10 [==============================] - 0s 4ms/step - loss: 0.2760 - mse: 0.0483 - val_loss: 0.3009 - val_mse: 0.0584\n",
            "Epoch 54/100\n",
            "10/10 [==============================] - 0s 4ms/step - loss: 0.2718 - mse: 0.0474 - val_loss: 0.2974 - val_mse: 0.0577\n",
            "Epoch 55/100\n",
            "10/10 [==============================] - 0s 4ms/step - loss: 0.2689 - mse: 0.0469 - val_loss: 0.2933 - val_mse: 0.0567\n",
            "Epoch 56/100\n",
            "10/10 [==============================] - 0s 4ms/step - loss: 0.2655 - mse: 0.0462 - val_loss: 0.2906 - val_mse: 0.0564\n",
            "Epoch 57/100\n",
            "10/10 [==============================] - 0s 6ms/step - loss: 0.2631 - mse: 0.0459 - val_loss: 0.2881 - val_mse: 0.0560\n",
            "Epoch 58/100\n",
            "10/10 [==============================] - 0s 4ms/step - loss: 0.2593 - mse: 0.0450 - val_loss: 0.2832 - val_mse: 0.0547\n",
            "Epoch 59/100\n",
            "10/10 [==============================] - 0s 5ms/step - loss: 0.2575 - mse: 0.0449 - val_loss: 0.2813 - val_mse: 0.0545\n",
            "Epoch 60/100\n",
            "10/10 [==============================] - 0s 4ms/step - loss: 0.2534 - mse: 0.0440 - val_loss: 0.2775 - val_mse: 0.0536\n",
            "Epoch 61/100\n",
            "10/10 [==============================] - 0s 4ms/step - loss: 0.2512 - mse: 0.0436 - val_loss: 0.2749 - val_mse: 0.0532\n",
            "Epoch 62/100\n",
            "10/10 [==============================] - 0s 4ms/step - loss: 0.2485 - mse: 0.0430 - val_loss: 0.2708 - val_mse: 0.0521\n",
            "Epoch 63/100\n",
            "10/10 [==============================] - 0s 6ms/step - loss: 0.2457 - mse: 0.0425 - val_loss: 0.2682 - val_mse: 0.0517\n",
            "Epoch 64/100\n",
            "10/10 [==============================] - 0s 4ms/step - loss: 0.2429 - mse: 0.0419 - val_loss: 0.2654 - val_mse: 0.0511\n",
            "Epoch 65/100\n",
            "10/10 [==============================] - 0s 5ms/step - loss: 0.2403 - mse: 0.0415 - val_loss: 0.2627 - val_mse: 0.0505\n",
            "Epoch 66/100\n",
            "10/10 [==============================] - 0s 6ms/step - loss: 0.2387 - mse: 0.0414 - val_loss: 0.2606 - val_mse: 0.0502\n",
            "Epoch 67/100\n",
            "10/10 [==============================] - 0s 4ms/step - loss: 0.2354 - mse: 0.0405 - val_loss: 0.2569 - val_mse: 0.0493\n",
            "Epoch 68/100\n",
            "10/10 [==============================] - 0s 4ms/step - loss: 0.2331 - mse: 0.0402 - val_loss: 0.2550 - val_mse: 0.0490\n",
            "Epoch 69/100\n",
            "10/10 [==============================] - 0s 6ms/step - loss: 0.2309 - mse: 0.0398 - val_loss: 0.2519 - val_mse: 0.0484\n",
            "Epoch 70/100\n",
            "10/10 [==============================] - 0s 4ms/step - loss: 0.2280 - mse: 0.0392 - val_loss: 0.2487 - val_mse: 0.0476\n",
            "Epoch 71/100\n",
            "10/10 [==============================] - 0s 4ms/step - loss: 0.2260 - mse: 0.0388 - val_loss: 0.2466 - val_mse: 0.0472\n",
            "Epoch 72/100\n",
            "10/10 [==============================] - 0s 4ms/step - loss: 0.2237 - mse: 0.0384 - val_loss: 0.2440 - val_mse: 0.0467\n",
            "Epoch 73/100\n",
            "10/10 [==============================] - 0s 4ms/step - loss: 0.2217 - mse: 0.0381 - val_loss: 0.2416 - val_mse: 0.0462\n",
            "Epoch 74/100\n",
            "10/10 [==============================] - 0s 4ms/step - loss: 0.2195 - mse: 0.0377 - val_loss: 0.2392 - val_mse: 0.0456\n",
            "Epoch 75/100\n",
            "10/10 [==============================] - 0s 4ms/step - loss: 0.2182 - mse: 0.0375 - val_loss: 0.2357 - val_mse: 0.0447\n",
            "Epoch 76/100\n",
            "10/10 [==============================] - 0s 4ms/step - loss: 0.2149 - mse: 0.0367 - val_loss: 0.2340 - val_mse: 0.0445\n",
            "Epoch 77/100\n",
            "10/10 [==============================] - 0s 4ms/step - loss: 0.2128 - mse: 0.0364 - val_loss: 0.2321 - val_mse: 0.0442\n",
            "Epoch 78/100\n",
            "10/10 [==============================] - 0s 4ms/step - loss: 0.2110 - mse: 0.0361 - val_loss: 0.2292 - val_mse: 0.0435\n",
            "Epoch 79/100\n",
            "10/10 [==============================] - 0s 4ms/step - loss: 0.2087 - mse: 0.0356 - val_loss: 0.2263 - val_mse: 0.0428\n",
            "Epoch 80/100\n",
            "10/10 [==============================] - 0s 5ms/step - loss: 0.2071 - mse: 0.0353 - val_loss: 0.2238 - val_mse: 0.0422\n",
            "Epoch 81/100\n",
            "10/10 [==============================] - 0s 4ms/step - loss: 0.2053 - mse: 0.0350 - val_loss: 0.2211 - val_mse: 0.0415\n",
            "Epoch 82/100\n",
            "10/10 [==============================] - 0s 4ms/step - loss: 0.2048 - mse: 0.0349 - val_loss: 0.2179 - val_mse: 0.0406\n",
            "Epoch 83/100\n",
            "10/10 [==============================] - 0s 4ms/step - loss: 0.2014 - mse: 0.0343 - val_loss: 0.2185 - val_mse: 0.0412\n",
            "Epoch 84/100\n",
            "10/10 [==============================] - 0s 4ms/step - loss: 0.1993 - mse: 0.0340 - val_loss: 0.2154 - val_mse: 0.0404\n",
            "Epoch 85/100\n",
            "10/10 [==============================] - 0s 4ms/step - loss: 0.1974 - mse: 0.0336 - val_loss: 0.2128 - val_mse: 0.0398\n",
            "Epoch 86/100\n",
            "10/10 [==============================] - 0s 4ms/step - loss: 0.1961 - mse: 0.0333 - val_loss: 0.2089 - val_mse: 0.0386\n",
            "Epoch 87/100\n",
            "10/10 [==============================] - 0s 4ms/step - loss: 0.1940 - mse: 0.0328 - val_loss: 0.2074 - val_mse: 0.0384\n",
            "Epoch 88/100\n",
            "10/10 [==============================] - 0s 4ms/step - loss: 0.1926 - mse: 0.0327 - val_loss: 0.2057 - val_mse: 0.0381\n",
            "Epoch 89/100\n",
            "10/10 [==============================] - 0s 4ms/step - loss: 0.1900 - mse: 0.0321 - val_loss: 0.2023 - val_mse: 0.0371\n",
            "Epoch 90/100\n",
            "10/10 [==============================] - 0s 6ms/step - loss: 0.1891 - mse: 0.0320 - val_loss: 0.2010 - val_mse: 0.0370\n",
            "Epoch 91/100\n",
            "10/10 [==============================] - 0s 4ms/step - loss: 0.1879 - mse: 0.0317 - val_loss: 0.1968 - val_mse: 0.0356\n",
            "Epoch 92/100\n",
            "10/10 [==============================] - 0s 4ms/step - loss: 0.1862 - mse: 0.0314 - val_loss: 0.1963 - val_mse: 0.0358\n",
            "Epoch 93/100\n",
            "10/10 [==============================] - 0s 4ms/step - loss: 0.1845 - mse: 0.0310 - val_loss: 0.1923 - val_mse: 0.0346\n",
            "Epoch 94/100\n",
            "10/10 [==============================] - 0s 4ms/step - loss: 0.1822 - mse: 0.0306 - val_loss: 0.1916 - val_mse: 0.0347\n",
            "Epoch 95/100\n",
            "10/10 [==============================] - 0s 6ms/step - loss: 0.1809 - mse: 0.0304 - val_loss: 0.1883 - val_mse: 0.0337\n",
            "Epoch 96/100\n",
            "10/10 [==============================] - 0s 4ms/step - loss: 0.1785 - mse: 0.0299 - val_loss: 0.1870 - val_mse: 0.0335\n",
            "Epoch 97/100\n",
            "10/10 [==============================] - 0s 4ms/step - loss: 0.1775 - mse: 0.0297 - val_loss: 0.1845 - val_mse: 0.0328\n",
            "Epoch 98/100\n",
            "10/10 [==============================] - 0s 4ms/step - loss: 0.1758 - mse: 0.0294 - val_loss: 0.1838 - val_mse: 0.0329\n",
            "Epoch 99/100\n",
            "10/10 [==============================] - 0s 4ms/step - loss: 0.1737 - mse: 0.0290 - val_loss: 0.1815 - val_mse: 0.0323\n",
            "Epoch 100/100\n",
            "10/10 [==============================] - 0s 4ms/step - loss: 0.1721 - mse: 0.0287 - val_loss: 0.1794 - val_mse: 0.0318\n",
            "1/1 [==============================] - 0s 17ms/step - loss: 0.2880 - mse: 0.0619\n",
            "mse: 6.19%\n"
          ]
        }
      ],
      "source": [
        "# Train model\n",
        "history = model.fit(X_train_std, y_train_onehot, validation_split=0.2, epochs=100, batch_size=10)"
      ]
    },
    {
      "cell_type": "code",
      "execution_count": 18,
      "metadata": {
        "colab": {
          "base_uri": "https://localhost:8080/",
          "height": 295
        },
        "id": "VJEAaGMVJf6O",
        "outputId": "ee9110b7-7bc8-4710-b9ca-57e5c4188203"
      },
      "outputs": [
        {
          "data": {
            "image/png": "[encoded data removed]",
            "text/plain": [
              "<Figure size 432x288 with 1 Axes>"
            ]
          },
          "metadata": {
            "needs_background": "light"
          },
          "output_type": "display_data"
        }
      ],
      "source": [
        "# Plot training & validation accuracy values\n",
        "plt.plot(history.history['loss'])\n",
        "plt.plot(history.history['val_loss'])\n",
        "plt.title('Função Perda')\n",
        "plt.ylabel('MSE')\n",
        "plt.xlabel('Epocas')\n",
        "plt.legend(['Treino', 'Teste'], loc='upper left')\n",
        "plt.show()\n"
      ]
    }
  ],
  "metadata": {
    "colab": {
      "provenance": []
    },
    "kernelspec": {
      "display_name": "Python 3",
      "name": "python3"
    },
    "language_info": {
      "name": "python"
    }
  },
  "nbformat": 4,
  "nbformat_minor": 0
}
