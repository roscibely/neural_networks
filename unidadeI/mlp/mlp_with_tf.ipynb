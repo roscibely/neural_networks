{
  "cells": [
    {
      "attachments": {},
      "cell_type": "markdown",
      "metadata": {
        "id": "MjJZA1lbKjfE"
      },
      "source": [
        "# Exemplo - Multilayer Perceptron com TensorFlow\n",
        "\n",
        "### Problema: Classificação de flores Iris\n",
        "\n",
        "Atributos presentes no dataset:\n",
        "1. comprimento da sépala em cm\n",
        "2. largura da sépala em cm\n",
        "3. comprimento da pétala em cm\n",
        "4. largura da pétala em cm\n",
        "5. classe:\n",
        "    - Iris Setosa\n",
        "    - Iris Versicolor\n",
        "    - Iris Virgínia\n",
        "\n",
        "#### Objetivo: Classificar uma flor Iris com base em suas medidas\n",
        "\n",
        "\n",
        "<div>\n",
        "\n",
        "<img src=\"https://upload.wikimedia.org/wikipedia/commons/thumb/5/56/Kosaciec_szczecinkowaty_Iris_setosa.jpg/1200px-Kosaciec_szczecinkowaty_Iris_setosa.jpg\" width=\"200\" height=\"200\" /> \n",
        "<img src=\"https://upload.wikimedia.org/wikipedia/commons/2/27/Blue_Flag%2C_Ottawa.jpg\" width=\"200\" height=\"200\" />\n",
        "<img src=\"https://upload.wikimedia.org/wikipedia/commons/thumb/f/f8/Iris_virginica_2.jpg/1200px-Iris_virginica_2.jpg\" width=\"200\" height=\"200\" /> </div>\n",
        "\n",
        " Iris Setosa, Iris Versicolor, Iris Virginica, respectivamente."
      ]
    },
    {
      "attachments": {},
      "cell_type": "markdown",
      "metadata": {},
      "source": [
        "## 1. Importando bibliotecas"
      ]
    },
    {
      "cell_type": "code",
      "execution_count": 1,
      "metadata": {
        "id": "YQZ21YC7HJBf"
      },
      "outputs": [],
      "source": [
        "import tensorflow as tf\n",
        "import numpy as np\n",
        "import pandas as pd\n",
        "import matplotlib.pyplot as plt\n",
        "from sklearn.model_selection import train_test_split\n",
        "from sklearn.preprocessing import StandardScaler"
      ]
    },
    {
      "attachments": {},
      "cell_type": "markdown",
      "metadata": {},
      "source": [
        "## 2. Carregando dataset"
      ]
    },
    {
      "cell_type": "code",
      "execution_count": 2,
      "metadata": {},
      "outputs": [],
      "source": [
        "df = pd.read_csv('iris.data')"
      ]
    },
    {
      "attachments": {},
      "cell_type": "markdown",
      "metadata": {},
      "source": [
        "### 2.1. Visualizando as 5 primeiras linhas do dataset"
      ]
    },
    {
      "cell_type": "code",
      "execution_count": 3,
      "metadata": {},
      "outputs": [
        {
          "data": {
            "text/html": [
              "<div>\n",
              "<style scoped>\n",
              "    .dataframe tbody tr th:only-of-type {\n",
              "        vertical-align: middle;\n",
              "    }\n",
              "\n",
              "    .dataframe tbody tr th {\n",
              "        vertical-align: top;\n",
              "    }\n",
              "\n",
              "    .dataframe thead th {\n",
              "        text-align: right;\n",
              "    }\n",
              "</style>\n",
              "<table border=\"1\" class=\"dataframe\">\n",
              "  <thead>\n",
              "    <tr style=\"text-align: right;\">\n",
              "      <th></th>\n",
              "      <th>5.1</th>\n",
              "      <th>3.5</th>\n",
              "      <th>1.4</th>\n",
              "      <th>0.2</th>\n",
              "      <th>Iris-setosa</th>\n",
              "    </tr>\n",
              "  </thead>\n",
              "  <tbody>\n",
              "    <tr>\n",
              "      <th>0</th>\n",
              "      <td>4.9</td>\n",
              "      <td>3.0</td>\n",
              "      <td>1.4</td>\n",
              "      <td>0.2</td>\n",
              "      <td>Iris-setosa</td>\n",
              "    </tr>\n",
              "    <tr>\n",
              "      <th>1</th>\n",
              "      <td>4.7</td>\n",
              "      <td>3.2</td>\n",
              "      <td>1.3</td>\n",
              "      <td>0.2</td>\n",
              "      <td>Iris-setosa</td>\n",
              "    </tr>\n",
              "    <tr>\n",
              "      <th>2</th>\n",
              "      <td>4.6</td>\n",
              "      <td>3.1</td>\n",
              "      <td>1.5</td>\n",
              "      <td>0.2</td>\n",
              "      <td>Iris-setosa</td>\n",
              "    </tr>\n",
              "    <tr>\n",
              "      <th>3</th>\n",
              "      <td>5.0</td>\n",
              "      <td>3.6</td>\n",
              "      <td>1.4</td>\n",
              "      <td>0.2</td>\n",
              "      <td>Iris-setosa</td>\n",
              "    </tr>\n",
              "    <tr>\n",
              "      <th>4</th>\n",
              "      <td>5.4</td>\n",
              "      <td>3.9</td>\n",
              "      <td>1.7</td>\n",
              "      <td>0.4</td>\n",
              "      <td>Iris-setosa</td>\n",
              "    </tr>\n",
              "  </tbody>\n",
              "</table>\n",
              "</div>"
            ],
            "text/plain": [
              "   5.1  3.5  1.4  0.2  Iris-setosa\n",
              "0  4.9  3.0  1.4  0.2  Iris-setosa\n",
              "1  4.7  3.2  1.3  0.2  Iris-setosa\n",
              "2  4.6  3.1  1.5  0.2  Iris-setosa\n",
              "3  5.0  3.6  1.4  0.2  Iris-setosa\n",
              "4  5.4  3.9  1.7  0.4  Iris-setosa"
            ]
          },
          "execution_count": 3,
          "metadata": {},
          "output_type": "execute_result"
        }
      ],
      "source": [
        "df.head()"
      ]
    },
    {
      "attachments": {},
      "cell_type": "markdown",
      "metadata": {},
      "source": [
        "### 2.2. Dividindo o dataset em atributos e classes"
      ]
    },
    {
      "cell_type": "code",
      "execution_count": 4,
      "metadata": {},
      "outputs": [],
      "source": [
        "X = df.iloc[:, 0:4].values # Atributos/Features\n",
        "y = df.iloc[:, 4].values # Classes/Labels"
      ]
    },
    {
      "cell_type": "code",
      "execution_count": 5,
      "metadata": {},
      "outputs": [
        {
          "data": {
            "text/plain": [
              "array(['Iris-setosa', 'Iris-versicolor', 'Iris-virginica'], dtype=object)"
            ]
          },
          "execution_count": 5,
          "metadata": {},
          "output_type": "execute_result"
        }
      ],
      "source": [
        "df.iloc[:, 4].unique() #visualizando as classes"
      ]
    },
    {
      "attachments": {},
      "cell_type": "markdown",
      "metadata": {},
      "source": [
        "## 3. Dividindo o dataset em treino e teste "
      ]
    },
    {
      "cell_type": "code",
      "execution_count": 6,
      "metadata": {
        "id": "D1374nHcIQ04"
      },
      "outputs": [],
      "source": [
        "# Dividindo os dados em treino e teste em 80% e 20% respectivamente\n",
        "X_train, X_test, y_train, y_test = train_test_split(X, y, test_size=0.2, random_state=3, stratify=y)\n",
        "\n",
        "# Padronizando os dados de entrada (X) para média 0 e desvio padrão 1\n",
        "sc = StandardScaler()\n",
        "sc.fit(X_train)\n",
        "X_train_std = sc.transform(X_train)\n",
        "X_test_std = sc.transform(X_test)\n",
        "\n",
        "# Convertendo as classes em valores numéricos \n",
        "# Uma classe será representada por um vetor de 3 posições, onde apenas uma posição será 1 e as outras 0\n",
        "# Exemplo: Iris-setosa = [1, 0, 0]\n",
        "#          Iris-versicolor = [0, 1, 0]\n",
        "#          Iris-virginica = [0, 0, 1]\n",
        "# Fazemos isso, pois o algoritmo de aprendizado de máquina espera os dados sejam representadas por valores numéricos\n",
        "y_train_onehot = pd.get_dummies(y_train).values\n",
        "y_test_onehot = pd.get_dummies(y_test).values\n"
      ]
    },
    {
      "attachments": {},
      "cell_type": "markdown",
      "metadata": {},
      "source": [
        "## 4. Criando o modelo"
      ]
    },
    {
      "cell_type": "code",
      "execution_count": 10,
      "metadata": {
        "colab": {
          "base_uri": "https://localhost:8080/"
        },
        "id": "JGX2rgFeIbxp",
        "outputId": "c09b08a5-6208-4bc6-a858-af75e243b34c"
      },
      "outputs": [
        {
          "name": "stdout",
          "output_type": "stream",
          "text": [
            "Model: \"sequential_3\"\n",
            "_________________________________________________________________\n",
            " Layer (type)                Output Shape              Param #   \n",
            "=================================================================\n",
            " dense_5 (Dense)             (None, 64)                320       \n",
            "                                                                 \n",
            " dense_6 (Dense)             (None, 3)                 195       \n",
            "                                                                 \n",
            "=================================================================\n",
            "Total params: 515\n",
            "Trainable params: 515\n",
            "Non-trainable params: 0\n",
            "_________________________________________________________________\n"
          ]
        }
      ],
      "source": [
        "# Modelo de rede perceptron multicamadas com uma camada oculta de 64 neurônios\n",
        "# e camada de saída com 3 neurônios (3 classes)\n",
        "model = tf.keras.models.Sequential()\n",
        "model.add(tf.keras.layers.Dense(64, input_dim=4, activation='sigmoid'))\n",
        "model.add(tf.keras.layers.Dense(3, activation='softmax'))\n",
        "model.summary() #visualizando o modelo"
      ]
    },
    {
      "attachments": {},
      "cell_type": "markdown",
      "metadata": {},
      "source": [
        "### 4.1. Compilando o modelo"
      ]
    },
    {
      "cell_type": "code",
      "execution_count": 11,
      "metadata": {},
      "outputs": [],
      "source": [
        "# Compile model\n",
        "# Otimizador Adam com taxa de aprendizado de 0.01\n",
        "opt = tf.keras.optimizers.Adam(learning_rate=0.01)\n",
        "# Função de custo categorical_crossentropy (para problemas de classificação com mais de duas classes)\n",
        "# Métrica de avaliação MSE (Mean Squared Error)\n",
        "model.compile(loss='categorical_crossentropy', optimizer=opt, metrics=['mse'])"
      ]
    },
    {
      "attachments": {},
      "cell_type": "markdown",
      "metadata": {},
      "source": [
        "### 4.2. Treinando o modelo"
      ]
    },
    {
      "cell_type": "code",
      "execution_count": 10,
      "metadata": {
        "colab": {
          "base_uri": "https://localhost:8080/"
        },
        "id": "dUv0zfv7I97M",
        "outputId": "2365675e-4475-47d8-b3e8-c8e282b5f351"
      },
      "outputs": [
        {
          "name": "stdout",
          "output_type": "stream",
          "text": [
            "Epoch 1/100\n",
            "10/10 [==============================] - 7s 94ms/step - loss: 1.0777 - mse: 0.2161 - val_loss: 0.7840 - val_mse: 0.1504\n",
            "Epoch 2/100\n",
            "10/10 [==============================] - 0s 18ms/step - loss: 0.6753 - mse: 0.1267 - val_loss: 0.5236 - val_mse: 0.0942\n",
            "Epoch 3/100\n",
            "10/10 [==============================] - 0s 21ms/step - loss: 0.4972 - mse: 0.0926 - val_loss: 0.3934 - val_mse: 0.0682\n",
            "Epoch 4/100\n",
            "10/10 [==============================] - 0s 21ms/step - loss: 0.4037 - mse: 0.0753 - val_loss: 0.3214 - val_mse: 0.0544\n",
            "Epoch 5/100\n",
            "10/10 [==============================] - 0s 19ms/step - loss: 0.3510 - mse: 0.0658 - val_loss: 0.2735 - val_mse: 0.0441\n",
            "Epoch 6/100\n",
            "10/10 [==============================] - 0s 21ms/step - loss: 0.3144 - mse: 0.0578 - val_loss: 0.2381 - val_mse: 0.0379\n",
            "Epoch 7/100\n",
            "10/10 [==============================] - 0s 20ms/step - loss: 0.2817 - mse: 0.0514 - val_loss: 0.2115 - val_mse: 0.0325\n",
            "Epoch 8/100\n",
            "10/10 [==============================] - 0s 26ms/step - loss: 0.2620 - mse: 0.0482 - val_loss: 0.1924 - val_mse: 0.0290\n",
            "Epoch 9/100\n",
            "10/10 [==============================] - 0s 38ms/step - loss: 0.2798 - mse: 0.0532 - val_loss: 0.1762 - val_mse: 0.0254\n",
            "Epoch 10/100\n",
            "10/10 [==============================] - 0s 35ms/step - loss: 0.2199 - mse: 0.0391 - val_loss: 0.1738 - val_mse: 0.0288\n",
            "Epoch 11/100\n",
            "10/10 [==============================] - 0s 35ms/step - loss: 0.1978 - mse: 0.0338 - val_loss: 0.1510 - val_mse: 0.0205\n",
            "Epoch 12/100\n",
            "10/10 [==============================] - 0s 26ms/step - loss: 0.1911 - mse: 0.0319 - val_loss: 0.1392 - val_mse: 0.0197\n",
            "Epoch 13/100\n",
            "10/10 [==============================] - 0s 45ms/step - loss: 0.1721 - mse: 0.0289 - val_loss: 0.1270 - val_mse: 0.0173\n",
            "Epoch 14/100\n",
            "10/10 [==============================] - 0s 36ms/step - loss: 0.1645 - mse: 0.0271 - val_loss: 0.1164 - val_mse: 0.0149\n",
            "Epoch 15/100\n",
            "10/10 [==============================] - 0s 33ms/step - loss: 0.1507 - mse: 0.0246 - val_loss: 0.1107 - val_mse: 0.0148\n",
            "Epoch 16/100\n",
            "10/10 [==============================] - 0s 31ms/step - loss: 0.1325 - mse: 0.0199 - val_loss: 0.1066 - val_mse: 0.0131\n",
            "Epoch 17/100\n",
            "10/10 [==============================] - 0s 19ms/step - loss: 0.1290 - mse: 0.0201 - val_loss: 0.0950 - val_mse: 0.0116\n",
            "Epoch 18/100\n",
            "10/10 [==============================] - 0s 21ms/step - loss: 0.1244 - mse: 0.0195 - val_loss: 0.0870 - val_mse: 0.0100\n",
            "Epoch 19/100\n",
            "10/10 [==============================] - 0s 20ms/step - loss: 0.1166 - mse: 0.0180 - val_loss: 0.0852 - val_mse: 0.0096\n",
            "Epoch 20/100\n",
            "10/10 [==============================] - 0s 20ms/step - loss: 0.1065 - mse: 0.0160 - val_loss: 0.0782 - val_mse: 0.0090\n",
            "Epoch 21/100\n",
            "10/10 [==============================] - 0s 24ms/step - loss: 0.1034 - mse: 0.0156 - val_loss: 0.0738 - val_mse: 0.0077\n",
            "Epoch 22/100\n",
            "10/10 [==============================] - 0s 20ms/step - loss: 0.0968 - mse: 0.0146 - val_loss: 0.0690 - val_mse: 0.0071\n",
            "Epoch 23/100\n",
            "10/10 [==============================] - 0s 24ms/step - loss: 0.0927 - mse: 0.0138 - val_loss: 0.0661 - val_mse: 0.0067\n",
            "Epoch 24/100\n",
            "10/10 [==============================] - 0s 17ms/step - loss: 0.0906 - mse: 0.0139 - val_loss: 0.0636 - val_mse: 0.0065\n",
            "Epoch 25/100\n",
            "10/10 [==============================] - 0s 18ms/step - loss: 0.0858 - mse: 0.0131 - val_loss: 0.0572 - val_mse: 0.0053\n",
            "Epoch 26/100\n",
            "10/10 [==============================] - 0s 18ms/step - loss: 0.0824 - mse: 0.0125 - val_loss: 0.0584 - val_mse: 0.0058\n",
            "Epoch 27/100\n",
            "10/10 [==============================] - 0s 20ms/step - loss: 0.0797 - mse: 0.0120 - val_loss: 0.0529 - val_mse: 0.0048\n",
            "Epoch 28/100\n",
            "10/10 [==============================] - 0s 21ms/step - loss: 0.0771 - mse: 0.0118 - val_loss: 0.0499 - val_mse: 0.0043\n",
            "Epoch 29/100\n",
            "10/10 [==============================] - 0s 22ms/step - loss: 0.0778 - mse: 0.0124 - val_loss: 0.0482 - val_mse: 0.0041\n",
            "Epoch 30/100\n",
            "10/10 [==============================] - 0s 22ms/step - loss: 0.0721 - mse: 0.0111 - val_loss: 0.0472 - val_mse: 0.0042\n",
            "Epoch 31/100\n",
            "10/10 [==============================] - 0s 21ms/step - loss: 0.0700 - mse: 0.0108 - val_loss: 0.0446 - val_mse: 0.0036\n",
            "Epoch 32/100\n",
            "10/10 [==============================] - 0s 23ms/step - loss: 0.0681 - mse: 0.0106 - val_loss: 0.0438 - val_mse: 0.0038\n",
            "Epoch 33/100\n",
            "10/10 [==============================] - 0s 22ms/step - loss: 0.0669 - mse: 0.0105 - val_loss: 0.0441 - val_mse: 0.0042\n",
            "Epoch 34/100\n",
            "10/10 [==============================] - 0s 21ms/step - loss: 0.0668 - mse: 0.0109 - val_loss: 0.0403 - val_mse: 0.0033\n",
            "Epoch 35/100\n",
            "10/10 [==============================] - 0s 18ms/step - loss: 0.0639 - mse: 0.0102 - val_loss: 0.0447 - val_mse: 0.0047\n",
            "Epoch 36/100\n",
            "10/10 [==============================] - 0s 21ms/step - loss: 0.0639 - mse: 0.0104 - val_loss: 0.0394 - val_mse: 0.0034\n",
            "Epoch 37/100\n",
            "10/10 [==============================] - 0s 20ms/step - loss: 0.0650 - mse: 0.0109 - val_loss: 0.0359 - val_mse: 0.0027\n",
            "Epoch 38/100\n",
            "10/10 [==============================] - 0s 21ms/step - loss: 0.0586 - mse: 0.0093 - val_loss: 0.0403 - val_mse: 0.0040\n",
            "Epoch 39/100\n",
            "10/10 [==============================] - 0s 20ms/step - loss: 0.0605 - mse: 0.0099 - val_loss: 0.0368 - val_mse: 0.0032\n",
            "Epoch 40/100\n",
            "10/10 [==============================] - 0s 25ms/step - loss: 0.0592 - mse: 0.0099 - val_loss: 0.0357 - val_mse: 0.0031\n",
            "Epoch 41/100\n",
            "10/10 [==============================] - 0s 25ms/step - loss: 0.0613 - mse: 0.0104 - val_loss: 0.0308 - val_mse: 0.0020\n",
            "Epoch 42/100\n",
            "10/10 [==============================] - 0s 28ms/step - loss: 0.0567 - mse: 0.0095 - val_loss: 0.0342 - val_mse: 0.0030\n",
            "Epoch 43/100\n",
            "10/10 [==============================] - 0s 16ms/step - loss: 0.0558 - mse: 0.0094 - val_loss: 0.0321 - val_mse: 0.0026\n",
            "Epoch 44/100\n",
            "10/10 [==============================] - 0s 19ms/step - loss: 0.0555 - mse: 0.0094 - val_loss: 0.0304 - val_mse: 0.0023\n",
            "Epoch 45/100\n",
            "10/10 [==============================] - 0s 25ms/step - loss: 0.0544 - mse: 0.0093 - val_loss: 0.0352 - val_mse: 0.0036\n",
            "Epoch 46/100\n",
            "10/10 [==============================] - 0s 14ms/step - loss: 0.0534 - mse: 0.0090 - val_loss: 0.0292 - val_mse: 0.0022\n",
            "Epoch 47/100\n",
            "10/10 [==============================] - 0s 21ms/step - loss: 0.0576 - mse: 0.0104 - val_loss: 0.0278 - val_mse: 0.0019\n",
            "Epoch 48/100\n",
            "10/10 [==============================] - 0s 20ms/step - loss: 0.0516 - mse: 0.0089 - val_loss: 0.0265 - val_mse: 0.0017\n",
            "Epoch 49/100\n",
            "10/10 [==============================] - 0s 21ms/step - loss: 0.0581 - mse: 0.0109 - val_loss: 0.0246 - val_mse: 0.0014\n",
            "Epoch 50/100\n",
            "10/10 [==============================] - 0s 23ms/step - loss: 0.0508 - mse: 0.0089 - val_loss: 0.0281 - val_mse: 0.0023\n",
            "Epoch 51/100\n",
            "10/10 [==============================] - 0s 17ms/step - loss: 0.0516 - mse: 0.0090 - val_loss: 0.0301 - val_mse: 0.0028\n",
            "Epoch 52/100\n",
            "10/10 [==============================] - 0s 21ms/step - loss: 0.0535 - mse: 0.0098 - val_loss: 0.0229 - val_mse: 0.0012\n",
            "Epoch 53/100\n",
            "10/10 [==============================] - 0s 21ms/step - loss: 0.0517 - mse: 0.0094 - val_loss: 0.0265 - val_mse: 0.0021\n",
            "Epoch 54/100\n",
            "10/10 [==============================] - 0s 20ms/step - loss: 0.0488 - mse: 0.0087 - val_loss: 0.0234 - val_mse: 0.0014\n",
            "Epoch 55/100\n",
            "10/10 [==============================] - 0s 20ms/step - loss: 0.0498 - mse: 0.0090 - val_loss: 0.0220 - val_mse: 0.0012\n",
            "Epoch 56/100\n",
            "10/10 [==============================] - 0s 21ms/step - loss: 0.0466 - mse: 0.0084 - val_loss: 0.0270 - val_mse: 0.0023\n",
            "Epoch 57/100\n",
            "10/10 [==============================] - 0s 20ms/step - loss: 0.0533 - mse: 0.0096 - val_loss: 0.0293 - val_mse: 0.0029\n",
            "Epoch 58/100\n",
            "10/10 [==============================] - 0s 20ms/step - loss: 0.0496 - mse: 0.0094 - val_loss: 0.0208 - val_mse: 0.0010\n",
            "Epoch 59/100\n",
            "10/10 [==============================] - 0s 20ms/step - loss: 0.0485 - mse: 0.0093 - val_loss: 0.0219 - val_mse: 0.0013\n",
            "Epoch 60/100\n",
            "10/10 [==============================] - 0s 18ms/step - loss: 0.0458 - mse: 0.0080 - val_loss: 0.0259 - val_mse: 0.0023\n",
            "Epoch 61/100\n",
            "10/10 [==============================] - 0s 20ms/step - loss: 0.0477 - mse: 0.0087 - val_loss: 0.0221 - val_mse: 0.0015\n",
            "Epoch 62/100\n",
            "10/10 [==============================] - 0s 19ms/step - loss: 0.0503 - mse: 0.0097 - val_loss: 0.0193 - val_mse: 0.0010\n",
            "Epoch 63/100\n",
            "10/10 [==============================] - 0s 23ms/step - loss: 0.0484 - mse: 0.0090 - val_loss: 0.0242 - val_mse: 0.0020\n",
            "Epoch 64/100\n",
            "10/10 [==============================] - 0s 15ms/step - loss: 0.0437 - mse: 0.0083 - val_loss: 0.0179 - val_mse: 8.1539e-04\n",
            "Epoch 65/100\n",
            "10/10 [==============================] - 0s 22ms/step - loss: 0.0460 - mse: 0.0086 - val_loss: 0.0184 - val_mse: 9.6609e-04\n",
            "Epoch 66/100\n",
            "10/10 [==============================] - 0s 19ms/step - loss: 0.0454 - mse: 0.0086 - val_loss: 0.0182 - val_mse: 9.6320e-04\n",
            "Epoch 67/100\n",
            "10/10 [==============================] - 0s 20ms/step - loss: 0.0451 - mse: 0.0086 - val_loss: 0.0177 - val_mse: 8.9781e-04\n",
            "Epoch 68/100\n",
            "10/10 [==============================] - 0s 21ms/step - loss: 0.0600 - mse: 0.0113 - val_loss: 0.0255 - val_mse: 0.0025\n",
            "Epoch 69/100\n",
            "10/10 [==============================] - 0s 22ms/step - loss: 0.0437 - mse: 0.0078 - val_loss: 0.0168 - val_mse: 7.8133e-04\n",
            "Epoch 70/100\n",
            "10/10 [==============================] - 0s 24ms/step - loss: 0.0466 - mse: 0.0093 - val_loss: 0.0183 - val_mse: 0.0011\n",
            "Epoch 71/100\n",
            "10/10 [==============================] - 0s 17ms/step - loss: 0.0463 - mse: 0.0085 - val_loss: 0.0232 - val_mse: 0.0021\n",
            "Epoch 72/100\n",
            "10/10 [==============================] - 0s 20ms/step - loss: 0.0408 - mse: 0.0077 - val_loss: 0.0153 - val_mse: 6.3748e-04\n",
            "Epoch 73/100\n",
            "10/10 [==============================] - 0s 20ms/step - loss: 0.0432 - mse: 0.0083 - val_loss: 0.0155 - val_mse: 6.7383e-04\n",
            "Epoch 74/100\n",
            "10/10 [==============================] - 0s 20ms/step - loss: 0.0438 - mse: 0.0086 - val_loss: 0.0237 - val_mse: 0.0023\n",
            "Epoch 75/100\n",
            "10/10 [==============================] - 0s 23ms/step - loss: 0.0476 - mse: 0.0096 - val_loss: 0.0149 - val_mse: 6.1202e-04\n",
            "Epoch 76/100\n",
            "10/10 [==============================] - 0s 16ms/step - loss: 0.0383 - mse: 0.0070 - val_loss: 0.0173 - val_mse: 0.0010\n",
            "Epoch 77/100\n",
            "10/10 [==============================] - 0s 19ms/step - loss: 0.0388 - mse: 0.0072 - val_loss: 0.0148 - val_mse: 6.3505e-04\n",
            "Epoch 78/100\n",
            "10/10 [==============================] - 0s 15ms/step - loss: 0.0368 - mse: 0.0067 - val_loss: 0.0152 - val_mse: 7.1798e-04\n",
            "Epoch 79/100\n",
            "10/10 [==============================] - 0s 21ms/step - loss: 0.0430 - mse: 0.0082 - val_loss: 0.0145 - val_mse: 6.2359e-04\n",
            "Epoch 80/100\n",
            "10/10 [==============================] - 0s 19ms/step - loss: 0.0396 - mse: 0.0077 - val_loss: 0.0133 - val_mse: 4.5796e-04\n",
            "Epoch 81/100\n",
            "10/10 [==============================] - 0s 22ms/step - loss: 0.0423 - mse: 0.0081 - val_loss: 0.0157 - val_mse: 8.5321e-04\n",
            "Epoch 82/100\n",
            "10/10 [==============================] - 0s 21ms/step - loss: 0.0371 - mse: 0.0069 - val_loss: 0.0132 - val_mse: 5.0846e-04\n",
            "Epoch 83/100\n",
            "10/10 [==============================] - 0s 18ms/step - loss: 0.0351 - mse: 0.0063 - val_loss: 0.0153 - val_mse: 8.1339e-04\n",
            "Epoch 84/100\n",
            "10/10 [==============================] - 0s 20ms/step - loss: 0.0403 - mse: 0.0081 - val_loss: 0.0126 - val_mse: 4.2710e-04\n",
            "Epoch 85/100\n",
            "10/10 [==============================] - 0s 23ms/step - loss: 0.0339 - mse: 0.0061 - val_loss: 0.0144 - val_mse: 7.1091e-04\n",
            "Epoch 86/100\n",
            "10/10 [==============================] - 0s 29ms/step - loss: 0.0346 - mse: 0.0062 - val_loss: 0.0123 - val_mse: 4.2037e-04\n",
            "Epoch 87/100\n",
            "10/10 [==============================] - 0s 21ms/step - loss: 0.0373 - mse: 0.0075 - val_loss: 0.0117 - val_mse: 3.6318e-04\n",
            "Epoch 88/100\n",
            "10/10 [==============================] - 0s 20ms/step - loss: 0.0477 - mse: 0.0092 - val_loss: 0.0237 - val_mse: 0.0025\n",
            "Epoch 89/100\n",
            "10/10 [==============================] - 0s 21ms/step - loss: 0.0308 - mse: 0.0050 - val_loss: 0.0120 - val_mse: 4.2484e-04\n",
            "Epoch 90/100\n",
            "10/10 [==============================] - 0s 22ms/step - loss: 0.0420 - mse: 0.0088 - val_loss: 0.0111 - val_mse: 3.2725e-04\n",
            "Epoch 91/100\n",
            "10/10 [==============================] - 0s 19ms/step - loss: 0.0309 - mse: 0.0054 - val_loss: 0.0135 - val_mse: 6.7855e-04\n",
            "Epoch 92/100\n",
            "10/10 [==============================] - 0s 21ms/step - loss: 0.0327 - mse: 0.0057 - val_loss: 0.0131 - val_mse: 6.2695e-04\n",
            "Epoch 93/100\n",
            "10/10 [==============================] - 0s 20ms/step - loss: 0.0319 - mse: 0.0057 - val_loss: 0.0112 - val_mse: 3.7715e-04\n",
            "Epoch 94/100\n",
            "10/10 [==============================] - 0s 20ms/step - loss: 0.0304 - mse: 0.0052 - val_loss: 0.0109 - val_mse: 3.4776e-04\n",
            "Epoch 95/100\n",
            "10/10 [==============================] - 0s 19ms/step - loss: 0.0302 - mse: 0.0054 - val_loss: 0.0104 - val_mse: 2.9371e-04\n",
            "Epoch 96/100\n",
            "10/10 [==============================] - 0s 21ms/step - loss: 0.0322 - mse: 0.0058 - val_loss: 0.0107 - val_mse: 3.4402e-04\n",
            "Epoch 97/100\n",
            "10/10 [==============================] - 0s 21ms/step - loss: 0.0300 - mse: 0.0053 - val_loss: 0.0105 - val_mse: 3.2989e-04\n",
            "Epoch 98/100\n",
            "10/10 [==============================] - 0s 21ms/step - loss: 0.0284 - mse: 0.0049 - val_loss: 0.0100 - val_mse: 2.7622e-04\n",
            "Epoch 99/100\n",
            "10/10 [==============================] - 0s 20ms/step - loss: 0.0285 - mse: 0.0049 - val_loss: 0.0100 - val_mse: 2.8334e-04\n",
            "Epoch 100/100\n",
            "10/10 [==============================] - 0s 22ms/step - loss: 0.0284 - mse: 0.0049 - val_loss: 0.0099 - val_mse: 2.8795e-04\n"
          ]
        }
      ],
      "source": [
        "# Train model\n",
        "history = model.fit(X_train_std, y_train_onehot, validation_split=0.2, epochs=100, batch_size=10)"
      ]
    },
    {
      "attachments": {},
      "cell_type": "markdown",
      "metadata": {},
      "source": [
        "## 5. Visualizando o erro"
      ]
    },
    {
      "cell_type": "code",
      "execution_count": 11,
      "metadata": {
        "colab": {
          "base_uri": "https://localhost:8080/",
          "height": 295
        },
        "id": "VJEAaGMVJf6O",
        "outputId": "ee9110b7-7bc8-4710-b9ca-57e5c4188203"
      },
      "outputs": [
        {
          "data": {
            "image/png": "[encoded data removed]",
            "text/plain": [
              "<Figure size 640x480 with 1 Axes>"
            ]
          },
          "metadata": {},
          "output_type": "display_data"
        }
      ],
      "source": [
        "# Plot training & validation accuracy values\n",
        "plt.plot(history.history['loss'])\n",
        "plt.plot(history.history['val_loss'])\n",
        "plt.title('Função Perda')\n",
        "plt.ylabel('MSE')\n",
        "plt.xlabel('Epocas')\n",
        "plt.legend(['Treino', 'Teste'], loc='upper left')\n",
        "plt.show()\n"
      ]
    },
    {
      "attachments": {},
      "cell_type": "markdown",
      "metadata": {},
      "source": [
        "## 6. Testando o modelo"
      ]
    },
    {
      "cell_type": "code",
      "execution_count": 12,
      "metadata": {},
      "outputs": [
        {
          "name": "stdout",
          "output_type": "stream",
          "text": [
            "1/1 [==============================] - 1s 970ms/step\n",
            "A classe é: 1\n"
          ]
        }
      ],
      "source": [
        "teste = np.array([[5.1, 3.5, 1.4, 0.2]])\n",
        "teste = sc.transform(teste)\n",
        "# Predict\n",
        "\"\"\"\n",
        "    1 - Iris-setosa\n",
        "    2 - Iris-versicolor \n",
        "    3 - Iris-virginica\n",
        "\"\"\"\n",
        "y_predd = model.predict(teste)\n",
        "y_predd = np.argmax(y_predd, axis=1)+1 \n",
        "print(\"A classe é:\",  y_predd[-1])"
      ]
    }
  ],
  "metadata": {
    "colab": {
      "provenance": []
    },
    "kernelspec": {
      "display_name": "ambiente",
      "language": "python",
      "name": "python3"
    },
    "language_info": {
      "codemirror_mode": {
        "name": "ipython",
        "version": 3
      },
      "file_extension": ".py",
      "mimetype": "text/x-python",
      "name": "python",
      "nbconvert_exporter": "python",
      "pygments_lexer": "ipython3",
      "version": "3.10.7"
    },
    "vscode": {
      "interpreter": {
        "hash": "0b0f9e579a5ece41b179913a5bfcba9b3bacc7831980973d665bb429e9c64d4c"
      }
    }
  },
  "nbformat": 4,
  "nbformat_minor": 0
}
