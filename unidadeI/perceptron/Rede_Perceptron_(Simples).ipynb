{
  "nbformat": 4,
  "nbformat_minor": 0,
  "metadata": {
    "colab": {
      "provenance": []
    },
    "kernelspec": {
      "name": "python3",
      "display_name": "Python 3"
    },
    "language_info": {
      "name": "python"
    }
  },
  "cells": [
    {
      "cell_type": "markdown",
      "source": [
        "# 1. Rede Perceptron proposta por Frank Rosenblatt 1950"
      ],
      "metadata": {
        "id": "JPX3Yyr4JU1x"
      }
    },
    {
      "cell_type": "markdown",
      "source": [
        "* A estrutura do Perceptron de Rosenblatt é um classificador linear binário, e a saída é determinada pela aplicação de uma função de ativação degrau à soma ponderada das entradas.\n",
        "\n",
        "* A função de ativação degrau produz uma saída binária, como 0 ou 1, dependendo se a soma ponderada ultrapassa um determinado limiar."
      ],
      "metadata": {
        "id": "7B_-7cUqJjtf"
      }
    },
    {
      "cell_type": "code",
      "execution_count": 234,
      "metadata": {
        "id": "1ToNW3d9JPsK"
      },
      "outputs": [],
      "source": [
        "import tensorflow as tf\n",
        "import numpy as np"
      ]
    },
    {
      "cell_type": "markdown",
      "source": [
        "## Problema OR\n",
        "\n",
        "\\begin{align*}\n",
        "\\text{Entradas} &= \\begin{bmatrix}\n",
        "0 & 0 \\\\\n",
        "0 & 1 \\\\\n",
        "1 & 0 \\\\\n",
        "1 & 1 \\\\\n",
        "\\end{bmatrix} \\\\\n",
        "\\text{Saídas Esperadas} &= \\begin{bmatrix}\n",
        "0 \\\\\n",
        "1 \\\\\n",
        "1 \\\\\n",
        "1 \\\\\n",
        "\\end{bmatrix}\n",
        "\\end{align*}\n"
      ],
      "metadata": {
        "id": "xXidZ-7eJxcN"
      }
    },
    {
      "cell_type": "code",
      "source": [
        "# Dados de treinamento para o problema lógico OR\n",
        "entradas = np.array([[0, 0],\n",
        "                     [0, 1],\n",
        "                     [1, 0],\n",
        "                     [1, 1]])\n",
        "\n",
        "saidas_esperadas = np.array([[0],\n",
        "                             [1],\n",
        "                             [1],\n",
        "                             [1]])\n"
      ],
      "metadata": {
        "id": "ax-jpm6HJvN3"
      },
      "execution_count": 235,
      "outputs": []
    },
    {
      "cell_type": "markdown",
      "source": [
        "## Rede Perceptron"
      ],
      "metadata": {
        "id": "-_FEYd9PJ_IJ"
      }
    },
    {
      "cell_type": "code",
      "source": [
        "modelo = tf.keras.Sequential([\n",
        "    tf.keras.layers.Dense(units=1, activation='linear', use_bias=False, input_shape=(2,))])\n",
        "modelo.summary()"
      ],
      "metadata": {
        "colab": {
          "base_uri": "https://localhost:8080/"
        },
        "id": "j4WLAG98J9lG",
        "outputId": "aa822df0-d7e6-4b1d-afd8-b6e3d2148b0d"
      },
      "execution_count": 236,
      "outputs": [
        {
          "output_type": "stream",
          "name": "stdout",
          "text": [
            "Model: \"sequential_26\"\n",
            "_________________________________________________________________\n",
            " Layer (type)                Output Shape              Param #   \n",
            "=================================================================\n",
            " dense_26 (Dense)            (None, 1)                 2         \n",
            "                                                                 \n",
            "=================================================================\n",
            "Total params: 2 (8.00 Byte)\n",
            "Trainable params: 2 (8.00 Byte)\n",
            "Non-trainable params: 0 (0.00 Byte)\n",
            "_________________________________________________________________\n"
          ]
        }
      ]
    },
    {
      "cell_type": "code",
      "source": [
        "# Compilando o modelo\n",
        "modelo.compile(optimizer='sgd', loss='binary_crossentropy', metrics=['accuracy'])"
      ],
      "metadata": {
        "id": "M938dV4zKG-j"
      },
      "execution_count": 237,
      "outputs": []
    },
    {
      "cell_type": "code",
      "source": [
        "# Treinando o modelo\n",
        "modelo.fit(entradas, saidas_esperadas, epochs=100)"
      ],
      "metadata": {
        "id": "FZcDjIKJKOJY"
      },
      "execution_count": null,
      "outputs": []
    },
    {
      "cell_type": "code",
      "source": [
        "# Testando a rede treinada\n",
        "testes = np.array([[0, 0],\n",
        "                   [0, 1],\n",
        "                   [1, 0],\n",
        "                   [1, 1]])\n",
        "\n",
        "previsoes = modelo.predict(testes)\n",
        "previsoes = list(map(lambda x: 1 if x > 0 else 0, previsoes))\n",
        "print(\"\\nPrevisões:\")\n",
        "for i in range(len(testes)):\n",
        "    print(f\"{testes[i]} -> {previsoes[i]}\")"
      ],
      "metadata": {
        "colab": {
          "base_uri": "https://localhost:8080/"
        },
        "id": "AYOArb3LK8wh",
        "outputId": "ffb2fa16-c9eb-4e41-82ed-e16b360662f1"
      },
      "execution_count": 239,
      "outputs": [
        {
          "output_type": "stream",
          "name": "stdout",
          "text": [
            "1/1 [==============================] - 0s 83ms/step\n",
            "\n",
            "Previsões:\n",
            "[0 0] -> 0\n",
            "[0 1] -> 1\n",
            "[1 0] -> 1\n",
            "[1 1] -> 1\n"
          ]
        }
      ]
    }
  ]
}