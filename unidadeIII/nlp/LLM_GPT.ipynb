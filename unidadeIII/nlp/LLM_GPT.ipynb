{
  "nbformat": 4,
  "nbformat_minor": 0,
  "metadata": {
    "colab": {
      "provenance": []
    },
    "kernelspec": {
      "name": "python3",
      "display_name": "Python 3"
    },
    "language_info": {
      "name": "python"
    }
  },
  "cells": [
    {
      "cell_type": "markdown",
      "source": [
        "# Aula: _Large Language Models (LLM)_"
      ],
      "metadata": {
        "id": "JEQH039uPcYC"
      }
    },
    {
      "cell_type": "markdown",
      "source": [
        "1. Instalar as bibliotecas necessárias"
      ],
      "metadata": {
        "id": "aIn2bdsCPqp8"
      }
    },
    {
      "cell_type": "code",
      "execution_count": null,
      "metadata": {
        "id": "By-7lyNqPQ7y"
      },
      "outputs": [],
      "source": [
        "!pip install git+https://github.com/huggingface/peft.git\n",
        "!pip install transformers"
      ]
    },
    {
      "cell_type": "markdown",
      "source": [
        "2. Carregando o modelo GPT-2\n",
        "\n",
        "[Modelo GPT-2](https://huggingface.co/openai-community/gpt2)"
      ],
      "metadata": {
        "id": "4ZZXNe4nQR1T"
      }
    },
    {
      "cell_type": "code",
      "source": [
        "from transformers import pipeline, set_seed\n",
        "generator = pipeline('text-generation', model='gpt2')\n",
        "\n",
        "prompt = \"Hello, I'm a professor\"\n",
        "\n",
        "\n"
      ],
      "metadata": {
        "colab": {
          "base_uri": "https://localhost:8080/"
        },
        "id": "V1SHl6CVPuGF",
        "outputId": "f882478b-1c23-4b08-cb60-74d71b025a27"
      },
      "execution_count": null,
      "outputs": [
        {
          "output_type": "stream",
          "name": "stderr",
          "text": [
            "/usr/local/lib/python3.10/dist-packages/transformers/tokenization_utils_base.py:1601: FutureWarning: `clean_up_tokenization_spaces` was not set. It will be set to `True` by default. This behavior will be depracted in transformers v4.45, and will be then set to `False` by default. For more details check this issue: https://github.com/huggingface/transformers/issues/31884\n",
            "  warnings.warn(\n"
          ]
        }
      ]
    },
    {
      "cell_type": "code",
      "source": [
        "# Gera o texto\n",
        "output = generator(prompt,\n",
        "                   max_length=100,\n",
        "                   do_sample=True,\n",
        "                   num_return_sequences=2,\n",
        "                   truncation=True)"
      ],
      "metadata": {
        "colab": {
          "base_uri": "https://localhost:8080/"
        },
        "id": "eQo-TOS-UO6e",
        "outputId": "100e4544-73ed-480b-db67-9b8a57bd6837"
      },
      "execution_count": null,
      "outputs": [
        {
          "output_type": "stream",
          "name": "stderr",
          "text": [
            "Setting `pad_token_id` to `eos_token_id`:50256 for open-end generation.\n"
          ]
        }
      ]
    },
    {
      "cell_type": "code",
      "source": [
        "print(output[0]['generated_text'])"
      ],
      "metadata": {
        "colab": {
          "base_uri": "https://localhost:8080/"
        },
        "id": "pk54JV9TUgHk",
        "outputId": "a6be796f-be23-4818-84ff-c8efad924238"
      },
      "execution_count": null,
      "outputs": [
        {
          "output_type": "stream",
          "name": "stdout",
          "text": [
            "Hello, I'm a professor in the College of Engineering at the University of California at Berkeley, not a professor of biology. I'm doing what I've done for two more decades: teaching myself how to speak to your own students about evolution, and giving lectures to high school students about the biology of social insects. I'm trying to help and support the work that Darwin intended for us.\"\n",
            "\n",
            "A lot of that work is devoted to explaining in plain language why the evolution of animals (and the\n"
          ]
        }
      ]
    }
  ]
}